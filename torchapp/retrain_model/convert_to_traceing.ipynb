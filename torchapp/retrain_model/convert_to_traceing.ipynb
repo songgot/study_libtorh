{
 "cells": [
  {
   "cell_type": "code",
   "execution_count": 1,
   "id": "c1124255",
   "metadata": {},
   "outputs": [],
   "source": [
    "import torch"
   ]
  },
  {
   "cell_type": "code",
   "execution_count": 2,
   "id": "a1908281",
   "metadata": {},
   "outputs": [],
   "source": [
    "import torch.nn as nn"
   ]
  },
  {
   "cell_type": "code",
   "execution_count": 3,
   "id": "541bfad8",
   "metadata": {},
   "outputs": [],
   "source": [
    "x_data = torch.Tensor([\n",
    "    [0,0],\n",
    "    [1,0],\n",
    "    [1,1],\n",
    "    [0,0],\n",
    "    [0,0],\n",
    "    [0,1]\n",
    "])"
   ]
  },
  {
   "cell_type": "code",
   "execution_count": 4,
   "id": "29a87a04",
   "metadata": {},
   "outputs": [],
   "source": [
    "y_data = torch.LongTensor([\n",
    "    0, # etc\n",
    "    1, # mammal\n",
    "    2, # birds\n",
    "    0,\n",
    "    0,\n",
    "    2\n",
    "])"
   ]
  },
  {
   "cell_type": "code",
   "execution_count": 5,
   "id": "aff27c64",
   "metadata": {},
   "outputs": [],
   "source": [
    "class DNN(nn.Module):\n",
    "    def __init__(self):\n",
    "        super(DNN, self).__init__()\n",
    "        self.w1 = nn.Linear(2, 10)\n",
    "        self.bias1 = torch.zeros([10])\n",
    "\n",
    "        self.w2 = nn.Linear(10, 3)\n",
    "        self.bias2 = torch.zeros([3])\n",
    "        self.relu = nn.ReLU()\n",
    "        self.softmax = nn.Softmax(dim=0)\n",
    "\n",
    "    def forward(self, x):\n",
    "        y = self.w1(x) + self.bias1\n",
    "        y = self.relu(y)\n",
    "\n",
    "        y = self.w2(y) + self.bias2\n",
    "        return y"
   ]
  },
  {
   "cell_type": "code",
   "execution_count": 6,
   "id": "5df018c1",
   "metadata": {},
   "outputs": [],
   "source": [
    "model = DNN()"
   ]
  },
  {
   "cell_type": "code",
   "execution_count": 7,
   "id": "5a806e44",
   "metadata": {},
   "outputs": [],
   "source": [
    "criterion = torch.nn.CrossEntropyLoss() #손실함수"
   ]
  },
  {
   "cell_type": "code",
   "execution_count": 8,
   "id": "d296e651",
   "metadata": {},
   "outputs": [],
   "source": [
    "optimizer = torch.optim.SGD(model.parameters(), lr=0.01)"
   ]
  },
  {
   "cell_type": "code",
   "execution_count": 9,
   "id": "d86fdd5f",
   "metadata": {},
   "outputs": [],
   "source": [
    "# for epoch in range(1000):\n",
    "#     output = model(x_data)\n",
    "\n",
    "#     loss = criterion(output, y_data)\n",
    "\n",
    "#     optimizer.zero_grad()\n",
    "#     loss.backward()\n",
    "#     optimizer.step()\n",
    "\n",
    "#     print(\"progress:\", epoch, \"loss=\", loss.item())"
   ]
  },
  {
   "cell_type": "code",
   "execution_count": 10,
   "id": "5c7dcb7e",
   "metadata": {},
   "outputs": [],
   "source": [
    "#ATH = './weights/'\n",
    "\n",
    "#orch.save(model, PATH+'model.pt')  # 전체 모델 저장\n",
    "#orch.save(model.state_dict(), PATH + 'model_state_dict.pt')  # 모델 객체의 state_dict 저장\n",
    "#orch.save({\n",
    "#   'model': model.state_dict(),\n",
    "#   'optimizer': optimizer.state_dict()\n",
    "#, PATH + 'all.tar')  "
   ]
  },
  {
   "cell_type": "code",
   "execution_count": 11,
   "id": "f49d9140",
   "metadata": {},
   "outputs": [],
   "source": [
    "example = torch.bernoulli(torch.full((6, 2), 0.5))  "
   ]
  },
  {
   "cell_type": "code",
   "execution_count": 12,
   "id": "18334f2b",
   "metadata": {},
   "outputs": [],
   "source": [
    "# Torch.jit.trace를 사용하여 트레이싱을 이용해 torch.jit.ScriptModul 생성\n",
    "traced_script_module = torch.jit.trace(model, example)"
   ]
  },
  {
   "cell_type": "code",
   "execution_count": 13,
   "id": "136da2e8",
   "metadata": {},
   "outputs": [],
   "source": [
    "# 이렇게 trace된 ScriptModule 은 일반적인 PyTorch 모듈과 같은 방식으로 입력값을 받아 처리할 수 있습니다\n",
    "output = traced_script_module(torch.ones(1,2))"
   ]
  },
  {
   "cell_type": "code",
   "execution_count": 14,
   "id": "0cab5fdf",
   "metadata": {},
   "outputs": [
    {
     "data": {
      "text/plain": [
       "tensor([0.1439, 0.0038, 0.1812], grad_fn=<SliceBackward0>)"
      ]
     },
     "execution_count": 14,
     "metadata": {},
     "output_type": "execute_result"
    }
   ],
   "source": [
    "output[0, :5]"
   ]
  },
  {
   "cell_type": "code",
   "execution_count": 15,
   "id": "cf6467cc",
   "metadata": {},
   "outputs": [
    {
     "data": {
      "text/plain": [
       "tensor([[0., 1.],\n",
       "        [1., 1.],\n",
       "        [1., 0.],\n",
       "        [1., 0.],\n",
       "        [1., 1.],\n",
       "        [0., 1.]])"
      ]
     },
     "execution_count": 15,
     "metadata": {},
     "output_type": "execute_result"
    }
   ],
   "source": [
    "example"
   ]
  },
  {
   "cell_type": "code",
   "execution_count": 16,
   "id": "4814f195",
   "metadata": {},
   "outputs": [],
   "source": [
    "traced_script_module.save(\"./traced_test.pt\")"
   ]
  }
 ],
 "metadata": {
  "kernelspec": {
   "display_name": "Python 3 (ipykernel)",
   "language": "python",
   "name": "python3"
  },
  "language_info": {
   "codemirror_mode": {
    "name": "ipython",
    "version": 3
   },
   "file_extension": ".py",
   "mimetype": "text/x-python",
   "name": "python",
   "nbconvert_exporter": "python",
   "pygments_lexer": "ipython3",
   "version": "3.11.5"
  }
 },
 "nbformat": 4,
 "nbformat_minor": 5
}
