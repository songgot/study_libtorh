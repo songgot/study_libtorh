{
 "cells": [
  {
   "cell_type": "code",
   "execution_count": 37,
   "id": "74e604e9",
   "metadata": {},
   "outputs": [],
   "source": [
    "#PyTorch 모델을 트레이싱을 통해 TorchScript로 변환하기 위해서는,\n",
    "#여러분이 구현한 모델의 인스턴스를 예제 입력값과 함께 torch.jit.trace 함수에 넘겨주어야 합니다.\n",
    "#그러면 이 함수는 torch.jit.ScriptModule 객체를 생성하게 됩니다.\n",
    "#이렇게 생성된 객체에는 모듈의 forward 메소드의 모델 실행시 런타임을 trace한 결과가 포함되게 됩니다:\n",
    "\n",
    "import torch"
   ]
  },
  {
   "cell_type": "code",
   "execution_count": 38,
   "id": "84d5bdb1",
   "metadata": {},
   "outputs": [],
   "source": [
    "import torchvision"
   ]
  },
  {
   "cell_type": "code",
   "execution_count": 39,
   "id": "14a29b9e",
   "metadata": {},
   "outputs": [],
   "source": [
    "# 모델 인스턴스 생성\n",
    "model = torchvision.models.resnet18()\n",
    "\n",
    "#Don't forget change model to eval mode\n",
    "#model.eval()\n",
    "#일반적으로 모델의 forward() 메소드에 넘겨주는 입력 값\n",
    "example = torch.rand(1, 3, 224, 224)\n",
    "\n",
    "# Torch.jit.trace를 사용하여 트레이싱을 이용해 torch.jit.ScriptModul 생성\n",
    "traced_script_module = torch.jit.trace(model, example)"
   ]
  },
  {
   "cell_type": "code",
   "execution_count": 40,
   "id": "712332f1",
   "metadata": {},
   "outputs": [],
   "source": [
    "# 이렇게 trace된 ScriptModule 은 일반적인 PyTorch 모듈과 같은 방식으로 입력값을 받아 처리할 수 있습니다\n",
    "output = traced_script_module(torch.ones(1,3,224,224))"
   ]
  },
  {
   "cell_type": "code",
   "execution_count": 41,
   "id": "9daf451f",
   "metadata": {},
   "outputs": [
    {
     "data": {
      "text/plain": [
       "tensor([-0.3017, -0.5058, -0.2127, -0.6077,  0.3094], grad_fn=<SliceBackward0>)"
      ]
     },
     "execution_count": 41,
     "metadata": {},
     "output_type": "execute_result"
    }
   ],
   "source": [
    "output[0, :5]"
   ]
  },
  {
   "cell_type": "code",
   "execution_count": 33,
   "id": "79fdb55c",
   "metadata": {},
   "outputs": [],
   "source": [
    "# Script 모듈을 파일로 직렬화 하기\n",
    "#모델을 트레이싱이나 어노테이팅을 통해 ScriptModule 로 변환하였다면, 이제 그것을 파일로 직렬화할 수도 있습니다.\n",
    "#나중에 C++를 이용해 파일로부터 모듈을 읽어올 수 있고 Python에 어떤 의존성도 없이 그 모듈을 실행할 수 있습니다.\n",
    "#예를 들어 트레이싱 예시에서 들었던 ResNet18 모델을 직렬화하고 싶다고 가정합시다.\n",
    "#직렬화를 하기 위해서는, save 함수를 호출하고 모듈과 파일명만 넘겨주면 됩니다:\n",
    "traced_script_module.save(\"./traced_resnet18.pt\")"
   ]
  }
 ],
 "metadata": {
  "kernelspec": {
   "display_name": "Python 3 (ipykernel)",
   "language": "python",
   "name": "python3"
  },
  "language_info": {
   "codemirror_mode": {
    "name": "ipython",
    "version": 3
   },
   "file_extension": ".py",
   "mimetype": "text/x-python",
   "name": "python",
   "nbconvert_exporter": "python",
   "pygments_lexer": "ipython3",
   "version": "3.11.5"
  }
 },
 "nbformat": 4,
 "nbformat_minor": 5
}
